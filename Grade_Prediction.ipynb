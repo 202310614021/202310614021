{
  "metadata": {
    "kernelspec": {
      "language": "python",
      "display_name": "Python 3",
      "name": "python3"
    },
    "language_info": {
      "name": "python",
      "version": "3.10.12",
      "mimetype": "text/x-python",
      "codemirror_mode": {
        "name": "ipython",
        "version": 3
      },
      "pygments_lexer": "ipython3",
      "nbconvert_exporter": "python",
      "file_extension": ".py"
    },
    "kaggle": {
      "accelerator": "none",
      "dataSources": [
        {
          "sourceId": 99691,
          "sourceType": "datasetVersion",
          "datasetId": 52721
        }
      ],
      "dockerImageVersionId": 30839,
      "isInternetEnabled": true,
      "language": "python",
      "sourceType": "notebook",
      "isGpuEnabled": false
    },
    "colab": {
      "name": "Grade Prediction",
      "provenance": [],
      "toc_visible": true,
      "include_colab_link": true
    }
  },
  "nbformat_minor": 0,
  "nbformat": 4,
  "cells": [
    {
      "cell_type": "markdown",
      "metadata": {
        "id": "view-in-github",
        "colab_type": "text"
      },
      "source": [
        "<a href=\"https://colab.research.google.com/github/202310614021/202310614021/blob/main/Grade_Prediction.ipynb\" target=\"_parent\"><img src=\"https://colab.research.google.com/assets/colab-badge.svg\" alt=\"Open In Colab\"/></a>"
      ]
    },
    {
      "source": [
        "# IMPORTANT: RUN THIS CELL IN ORDER TO IMPORT YOUR KAGGLE DATA SOURCES,\n",
        "# THEN FEEL FREE TO DELETE THIS CELL.\n",
        "# NOTE: THIS NOTEBOOK ENVIRONMENT DIFFERS FROM KAGGLE'S PYTHON\n",
        "# ENVIRONMENT SO THERE MAY BE MISSING LIBRARIES USED BY YOUR\n",
        "# NOTEBOOK.\n",
        "import kagglehub\n",
        "dipam7_student_grade_prediction_path = kagglehub.dataset_download('dipam7/student-grade-prediction')\n",
        "\n",
        "print('Data source import complete.')\n"
      ],
      "metadata": {
        "id": "i4rgp_067L8o"
      },
      "cell_type": "code",
      "outputs": [],
      "execution_count": null
    },
    {
      "cell_type": "code",
      "source": [
        "# This Python 3 environment comes with many helpful analytics libraries installed\n",
        "# It is defined by the kaggle/python Docker image: https://github.com/kaggle/docker-python\n",
        "# For example, here's several helpful packages to load\n",
        "\n",
        "import numpy as np # linear algebra\n",
        "import pandas as pd # data processing, CSV file I/O (e.g. pd.read_csv)\n",
        "\n",
        "# Input data files are available in the read-only \"../input/\" directory\n",
        "# For example, running this (by clicking run or pressing Shift+Enter) will list all files under the input directory\n",
        "\n",
        "import os\n",
        "for dirname, _, filenames in os.walk('/kaggle/input'):\n",
        "    for filename in filenames:\n",
        "        print(os.path.join(dirname, filename))\n",
        "\n",
        "# You can write up to 20GB to the current directory (/kaggle/working/) that gets preserved as output when you create a version using \"Save & Run All\"\n",
        "# You can also write temporary files to /kaggle/temp/, but they won't be saved outside of the current session"
      ],
      "metadata": {
        "_uuid": "8f2839f25d086af736a60e9eeb907d3b93b6e0e5",
        "_cell_guid": "b1076dfc-b9ad-4769-8c92-a6c4dae69d19",
        "trusted": true,
        "execution": {
          "iopub.status.busy": "2025-02-13T07:22:39.59947Z",
          "iopub.execute_input": "2025-02-13T07:22:39.599763Z",
          "iopub.status.idle": "2025-02-13T07:22:40.591358Z",
          "shell.execute_reply.started": "2025-02-13T07:22:39.599713Z",
          "shell.execute_reply": "2025-02-13T07:22:40.590287Z"
        },
        "id": "MTl5T-mx7L8p"
      },
      "outputs": [],
      "execution_count": null
    },
    {
      "cell_type": "code",
      "source": [
        "df=pd.read_csv(\"/kaggle/input/student-grade-prediction/student-mat.csv\")\n",
        "df.head(3)"
      ],
      "metadata": {
        "trusted": true,
        "execution": {
          "iopub.status.busy": "2025-02-13T07:22:40.592323Z",
          "iopub.execute_input": "2025-02-13T07:22:40.592906Z",
          "iopub.status.idle": "2025-02-13T07:22:40.654906Z",
          "shell.execute_reply.started": "2025-02-13T07:22:40.592841Z",
          "shell.execute_reply": "2025-02-13T07:22:40.653677Z"
        },
        "id": "bT-Y9BcF7L8p"
      },
      "outputs": [],
      "execution_count": null
    },
    {
      "cell_type": "code",
      "source": [
        "df.info()"
      ],
      "metadata": {
        "trusted": true,
        "execution": {
          "iopub.status.busy": "2025-02-13T07:22:40.655961Z",
          "iopub.execute_input": "2025-02-13T07:22:40.656269Z",
          "iopub.status.idle": "2025-02-13T07:22:40.677751Z",
          "shell.execute_reply.started": "2025-02-13T07:22:40.656245Z",
          "shell.execute_reply": "2025-02-13T07:22:40.676778Z"
        },
        "id": "HnzvdULr7L8p"
      },
      "outputs": [],
      "execution_count": null
    },
    {
      "cell_type": "code",
      "source": [
        "df['age'].value_counts()"
      ],
      "metadata": {
        "trusted": true,
        "execution": {
          "iopub.status.busy": "2025-02-13T07:22:40.680189Z",
          "iopub.execute_input": "2025-02-13T07:22:40.680487Z",
          "iopub.status.idle": "2025-02-13T07:22:40.689875Z",
          "shell.execute_reply.started": "2025-02-13T07:22:40.680462Z",
          "shell.execute_reply": "2025-02-13T07:22:40.688753Z"
        },
        "id": "YqRlGNGT7L8p"
      },
      "outputs": [],
      "execution_count": null
    },
    {
      "cell_type": "code",
      "source": [
        "df['school'].unique()\n"
      ],
      "metadata": {
        "trusted": true,
        "execution": {
          "iopub.status.busy": "2025-02-13T07:22:40.691781Z",
          "iopub.execute_input": "2025-02-13T07:22:40.692072Z",
          "iopub.status.idle": "2025-02-13T07:22:40.710202Z",
          "shell.execute_reply.started": "2025-02-13T07:22:40.69205Z",
          "shell.execute_reply": "2025-02-13T07:22:40.708969Z"
        },
        "id": "50kJvTJc7L8p"
      },
      "outputs": [],
      "execution_count": null
    },
    {
      "cell_type": "code",
      "source": [
        "df['Fjob'].unique()"
      ],
      "metadata": {
        "trusted": true,
        "execution": {
          "iopub.status.busy": "2025-02-13T07:22:40.711383Z",
          "iopub.execute_input": "2025-02-13T07:22:40.71176Z",
          "iopub.status.idle": "2025-02-13T07:22:40.729038Z",
          "shell.execute_reply.started": "2025-02-13T07:22:40.711726Z",
          "shell.execute_reply": "2025-02-13T07:22:40.72808Z"
        },
        "id": "j4pm_2xt7L8p"
      },
      "outputs": [],
      "execution_count": null
    },
    {
      "cell_type": "code",
      "source": [
        "#Okul türünün öğrencilerin başarısı üzerindeki etkisi\n",
        "\n",
        "gruplar_okul = df.groupby('school')['G3'].mean()\n",
        "print(gruplar_okul)"
      ],
      "metadata": {
        "trusted": true,
        "execution": {
          "iopub.status.busy": "2025-02-13T07:22:40.730008Z",
          "iopub.execute_input": "2025-02-13T07:22:40.730329Z",
          "iopub.status.idle": "2025-02-13T07:22:40.750512Z",
          "shell.execute_reply.started": "2025-02-13T07:22:40.730306Z",
          "shell.execute_reply": "2025-02-13T07:22:40.749548Z"
        },
        "id": "24p2QBbg7L8q"
      },
      "outputs": [],
      "execution_count": null
    },
    {
      "cell_type": "code",
      "source": [
        "# Aile eğitiminin başarı üzerindeki etkisi\n",
        "gruplar_egitim = df.groupby(['Medu', 'Fedu'])['G3'].mean()\n",
        "print(gruplar_egitim)"
      ],
      "metadata": {
        "trusted": true,
        "execution": {
          "iopub.status.busy": "2025-02-13T07:22:40.751648Z",
          "iopub.execute_input": "2025-02-13T07:22:40.752072Z",
          "iopub.status.idle": "2025-02-13T07:22:40.785043Z",
          "shell.execute_reply.started": "2025-02-13T07:22:40.752043Z",
          "shell.execute_reply": "2025-02-13T07:22:40.783398Z"
        },
        "id": "Vl0KMSr47L8q"
      },
      "outputs": [],
      "execution_count": null
    },
    {
      "cell_type": "code",
      "source": [
        "object_columns = df.select_dtypes(include=['object'])\n",
        "\n",
        "# Object sütunları dummy değişkenlerine dönüştürme\n",
        "df_dummies = pd.get_dummies(df, columns=object_columns.columns)"
      ],
      "metadata": {
        "trusted": true,
        "execution": {
          "iopub.status.busy": "2025-02-13T07:22:40.786088Z",
          "iopub.execute_input": "2025-02-13T07:22:40.787977Z",
          "iopub.status.idle": "2025-02-13T07:22:40.830728Z",
          "shell.execute_reply.started": "2025-02-13T07:22:40.787936Z",
          "shell.execute_reply": "2025-02-13T07:22:40.8297Z"
        },
        "id": "VOGft6U77L8q"
      },
      "outputs": [],
      "execution_count": null
    },
    {
      "cell_type": "code",
      "source": [
        "df_dummies.corr()"
      ],
      "metadata": {
        "trusted": true,
        "execution": {
          "iopub.status.busy": "2025-02-13T07:22:40.833338Z",
          "iopub.execute_input": "2025-02-13T07:22:40.833689Z",
          "iopub.status.idle": "2025-02-13T07:22:40.910376Z",
          "shell.execute_reply.started": "2025-02-13T07:22:40.83366Z",
          "shell.execute_reply": "2025-02-13T07:22:40.909121Z"
        },
        "id": "JLsyzLiS7L8q"
      },
      "outputs": [],
      "execution_count": null
    },
    {
      "cell_type": "code",
      "source": [
        "df_dummies.info()"
      ],
      "metadata": {
        "trusted": true,
        "execution": {
          "iopub.status.busy": "2025-02-13T07:22:40.911471Z",
          "iopub.execute_input": "2025-02-13T07:22:40.911843Z",
          "iopub.status.idle": "2025-02-13T07:22:40.927321Z",
          "shell.execute_reply.started": "2025-02-13T07:22:40.911817Z",
          "shell.execute_reply": "2025-02-13T07:22:40.926115Z"
        },
        "id": "ldEfk3ga7L8q"
      },
      "outputs": [],
      "execution_count": null
    },
    {
      "cell_type": "code",
      "source": [
        "df2=df['status'] = np.where(df['G3'] >= 10, 'başarılı', 'başarısız')\n",
        "print(df)"
      ],
      "metadata": {
        "trusted": true,
        "execution": {
          "iopub.status.busy": "2025-02-13T07:22:40.928346Z",
          "iopub.execute_input": "2025-02-13T07:22:40.92871Z",
          "iopub.status.idle": "2025-02-13T07:22:40.942964Z",
          "shell.execute_reply.started": "2025-02-13T07:22:40.928672Z",
          "shell.execute_reply": "2025-02-13T07:22:40.941782Z"
        },
        "id": "p_BGhEV17L8r"
      },
      "outputs": [],
      "execution_count": null
    },
    {
      "cell_type": "code",
      "source": [
        "df_renamed = df.rename(columns={'school': 'schooltype', 'sex': 'gender'})\n",
        "print(df_renamed)"
      ],
      "metadata": {
        "trusted": true,
        "execution": {
          "iopub.status.busy": "2025-02-13T07:22:40.946379Z",
          "iopub.execute_input": "2025-02-13T07:22:40.946694Z",
          "iopub.status.idle": "2025-02-13T07:22:40.969714Z",
          "shell.execute_reply.started": "2025-02-13T07:22:40.946668Z",
          "shell.execute_reply": "2025-02-13T07:22:40.968742Z"
        },
        "id": "ElT_9QtD7L8r"
      },
      "outputs": [],
      "execution_count": null
    },
    {
      "cell_type": "code",
      "source": [
        "import missingno as msno\n",
        "msno.matrix(df)\n"
      ],
      "metadata": {
        "trusted": true,
        "execution": {
          "iopub.status.busy": "2025-02-13T07:22:40.971647Z",
          "iopub.execute_input": "2025-02-13T07:22:40.971952Z",
          "iopub.status.idle": "2025-02-13T07:22:43.37266Z",
          "shell.execute_reply.started": "2025-02-13T07:22:40.971929Z",
          "shell.execute_reply": "2025-02-13T07:22:43.371378Z"
        },
        "id": "t49_jflm7L8r"
      },
      "outputs": [],
      "execution_count": null
    },
    {
      "cell_type": "code",
      "source": [
        "df.head(3)"
      ],
      "metadata": {
        "trusted": true,
        "execution": {
          "iopub.status.busy": "2025-02-13T07:22:43.374093Z",
          "iopub.execute_input": "2025-02-13T07:22:43.374629Z",
          "iopub.status.idle": "2025-02-13T07:22:43.392479Z",
          "shell.execute_reply.started": "2025-02-13T07:22:43.374588Z",
          "shell.execute_reply": "2025-02-13T07:22:43.391167Z"
        },
        "id": "29dH6gzM7L8r"
      },
      "outputs": [],
      "execution_count": null
    },
    {
      "cell_type": "code",
      "source": [
        "import matplotlib.pyplot as plt"
      ],
      "metadata": {
        "trusted": true,
        "execution": {
          "iopub.status.busy": "2025-02-13T07:22:43.393478Z",
          "iopub.execute_input": "2025-02-13T07:22:43.393765Z",
          "iopub.status.idle": "2025-02-13T07:22:43.426168Z",
          "shell.execute_reply.started": "2025-02-13T07:22:43.393742Z",
          "shell.execute_reply": "2025-02-13T07:22:43.425001Z"
        },
        "id": "Zw3bXFPq7L8r"
      },
      "outputs": [],
      "execution_count": null
    },
    {
      "cell_type": "code",
      "source": [
        "job=df['Fjob'].value_counts()"
      ],
      "metadata": {
        "trusted": true,
        "execution": {
          "iopub.status.busy": "2025-02-13T07:22:43.427259Z",
          "iopub.execute_input": "2025-02-13T07:22:43.427658Z",
          "iopub.status.idle": "2025-02-13T07:22:43.444109Z",
          "shell.execute_reply.started": "2025-02-13T07:22:43.42759Z",
          "shell.execute_reply": "2025-02-13T07:22:43.442967Z"
        },
        "id": "n2pJrPxG7L8r"
      },
      "outputs": [],
      "execution_count": null
    },
    {
      "cell_type": "code",
      "source": [
        "plt.pie(job.values, labels= job.index,autopct=\"%1.1f%%\")"
      ],
      "metadata": {
        "trusted": true,
        "execution": {
          "iopub.status.busy": "2025-02-13T07:22:43.445073Z",
          "iopub.execute_input": "2025-02-13T07:22:43.445453Z",
          "iopub.status.idle": "2025-02-13T07:22:43.612375Z",
          "shell.execute_reply.started": "2025-02-13T07:22:43.445416Z",
          "shell.execute_reply": "2025-02-13T07:22:43.611357Z"
        },
        "id": "YR_K6QC77L8r"
      },
      "outputs": [],
      "execution_count": null
    },
    {
      "cell_type": "code",
      "source": [
        "yas=df['age'].value_counts()"
      ],
      "metadata": {
        "trusted": true,
        "execution": {
          "iopub.status.busy": "2025-02-13T07:22:43.613414Z",
          "iopub.execute_input": "2025-02-13T07:22:43.61377Z",
          "iopub.status.idle": "2025-02-13T07:22:43.618924Z",
          "shell.execute_reply.started": "2025-02-13T07:22:43.613733Z",
          "shell.execute_reply": "2025-02-13T07:22:43.617893Z"
        },
        "id": "VFzIYGNy7L8r"
      },
      "outputs": [],
      "execution_count": null
    },
    {
      "cell_type": "code",
      "source": [
        "plt.style.use('seaborn')\n",
        "plt.title('Yaşların Dağılımı')\n",
        "plt.xlabel('Yaş')\n",
        "plt.ylabel('Kişi Ssayısı')\n",
        "plt.bar(yas.index,yas.values,color=['#FFB6C1'])"
      ],
      "metadata": {
        "trusted": true,
        "execution": {
          "iopub.status.busy": "2025-02-13T07:22:43.620046Z",
          "iopub.execute_input": "2025-02-13T07:22:43.620511Z",
          "iopub.status.idle": "2025-02-13T07:22:43.906834Z",
          "shell.execute_reply.started": "2025-02-13T07:22:43.620464Z",
          "shell.execute_reply": "2025-02-13T07:22:43.905806Z"
        },
        "id": "BoE6qZDt7L8r"
      },
      "outputs": [],
      "execution_count": null
    },
    {
      "cell_type": "code",
      "source": [
        "devam=df['absences'].value_counts()\n"
      ],
      "metadata": {
        "trusted": true,
        "execution": {
          "iopub.status.busy": "2025-02-13T07:22:43.907878Z",
          "iopub.execute_input": "2025-02-13T07:22:43.908253Z",
          "iopub.status.idle": "2025-02-13T07:22:43.913291Z",
          "shell.execute_reply.started": "2025-02-13T07:22:43.908212Z",
          "shell.execute_reply": "2025-02-13T07:22:43.912237Z"
        },
        "id": "--l-bDdD7L8r"
      },
      "outputs": [],
      "execution_count": null
    },
    {
      "cell_type": "code",
      "source": [
        "plt.style.use('bmh')\n",
        "plt.title('Devamsızlık')\n",
        "plt.bar(devam.index, devam.values, color='#87CEEB')\n",
        "plt.show()"
      ],
      "metadata": {
        "trusted": true,
        "execution": {
          "iopub.status.busy": "2025-02-13T07:22:43.914462Z",
          "iopub.execute_input": "2025-02-13T07:22:43.914849Z",
          "iopub.status.idle": "2025-02-13T07:22:44.191749Z",
          "shell.execute_reply.started": "2025-02-13T07:22:43.914813Z",
          "shell.execute_reply": "2025-02-13T07:22:44.190478Z"
        },
        "id": "m4r_od117L8s"
      },
      "outputs": [],
      "execution_count": null
    },
    {
      "cell_type": "code",
      "source": [
        "#import matplotlib.pyplot as plt\n",
        "#print(plt.style.available)\n"
      ],
      "metadata": {
        "trusted": true,
        "execution": {
          "iopub.status.busy": "2025-02-13T07:23:43.886585Z",
          "iopub.execute_input": "2025-02-13T07:23:43.886998Z",
          "iopub.status.idle": "2025-02-13T07:23:43.890911Z",
          "shell.execute_reply.started": "2025-02-13T07:23:43.886965Z",
          "shell.execute_reply": "2025-02-13T07:23:43.889767Z"
        },
        "id": "ZXP3nHfX7L8s"
      },
      "outputs": [],
      "execution_count": null
    },
    {
      "cell_type": "code",
      "source": [
        "import seaborn as sns\n",
        "sns.kdeplot(df.loc[df['sex']=='F', 'G3'], label='F', color='#ff9999')\n",
        "sns.kdeplot(df.loc[df['sex']=='M', 'G3'], label='M', color='#004c99')\n",
        "\n",
        "plt.title('Female Vs Male')\n",
        "plt.xlabel('Final Grade (G3)')\n",
        "plt.legend()\n",
        "\n",
        "plt.show()"
      ],
      "metadata": {
        "trusted": true,
        "execution": {
          "iopub.status.busy": "2025-02-13T07:24:35.186538Z",
          "iopub.execute_input": "2025-02-13T07:24:35.186932Z",
          "iopub.status.idle": "2025-02-13T07:24:35.461009Z",
          "shell.execute_reply.started": "2025-02-13T07:24:35.186902Z",
          "shell.execute_reply": "2025-02-13T07:24:35.459842Z"
        },
        "id": "q7z5IjMo7L8s"
      },
      "outputs": [],
      "execution_count": null
    },
    {
      "cell_type": "code",
      "source": [
        "\n",
        "from sklearn.linear_model import LinearRegression\n",
        "from sklearn.model_selection import train_test_split\n",
        "from sklearn.preprocessing import OneHotEncoder\n",
        "from sklearn.metrics import mean_squared_error, r2_score\n"
      ],
      "metadata": {
        "trusted": true,
        "execution": {
          "iopub.status.busy": "2025-02-13T07:27:18.585299Z",
          "iopub.execute_input": "2025-02-13T07:27:18.585656Z",
          "iopub.status.idle": "2025-02-13T07:27:18.590259Z",
          "shell.execute_reply.started": "2025-02-13T07:27:18.58563Z",
          "shell.execute_reply": "2025-02-13T07:27:18.589095Z"
        },
        "id": "AY9aQNJo7L8s"
      },
      "outputs": [],
      "execution_count": null
    },
    {
      "cell_type": "code",
      "source": [
        "df_model = df[['Medu', 'Fedu', 'goout', 'Walc', 'failures', 'studytime', 'failures', 'absences', 'G1', 'G2', 'G3']]\n",
        "X = df_model.drop(columns='G3', axis=1)\n",
        "y = df_model['G3']\n",
        "\n",
        "X_train, X_test, y_train, y_test = train_test_split(X, y, test_size=0.2, random_state=3)\n",
        "model = LinearRegression()\n",
        "model.fit(X_train, y_train)\n",
        "y_test_pred = model.predict(X_test)\n",
        "mse = mean_squared_error(y_test, y_test_pred)\n",
        "r2 = r2_score(y_test, y_test_pred)\n",
        "\n",
        "print(\"Mean Squared Error:\", mse)\n",
        "print(\"R Squared:\", r2)"
      ],
      "metadata": {
        "execution": {
          "iopub.status.busy": "2025-02-13T07:28:52.306391Z",
          "iopub.execute_input": "2025-02-13T07:28:52.306725Z",
          "iopub.status.idle": "2025-02-13T07:28:52.325238Z",
          "shell.execute_reply.started": "2025-02-13T07:28:52.306702Z",
          "shell.execute_reply": "2025-02-13T07:28:52.324078Z"
        },
        "trusted": true,
        "id": "VOk-JlO57L8s"
      },
      "outputs": [],
      "execution_count": null
    },
    {
      "cell_type": "code",
      "source": [],
      "metadata": {
        "trusted": true,
        "id": "_gLdoii_7L8s"
      },
      "outputs": [],
      "execution_count": null
    },
    {
      "cell_type": "code",
      "source": [],
      "metadata": {
        "trusted": true,
        "id": "lN3SOUen7L8s"
      },
      "outputs": [],
      "execution_count": null
    },
    {
      "cell_type": "code",
      "source": [],
      "metadata": {
        "trusted": true,
        "id": "kLdsbVbX7L8s"
      },
      "outputs": [],
      "execution_count": null
    },
    {
      "cell_type": "code",
      "source": [],
      "metadata": {
        "trusted": true,
        "id": "BZNMYnns7L8s"
      },
      "outputs": [],
      "execution_count": null
    }
  ]
}